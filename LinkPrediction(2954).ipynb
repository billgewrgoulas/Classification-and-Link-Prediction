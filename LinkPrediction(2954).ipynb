{
 "cells": [
  {
   "cell_type": "code",
   "execution_count": 9,
   "id": "65087765-fc60-4ca5-8d64-810f553176d4",
   "metadata": {},
   "outputs": [],
   "source": [
    "import random\n",
    "import networkx as nx\n",
    "import seaborn as sns\n",
    "import pandas as pd\n",
    "import matplotlib.pyplot as plt"
   ]
  },
  {
   "cell_type": "markdown",
   "id": "7d5175b1-7a0e-4a38-8900-24c03ba5ceee",
   "metadata": {},
   "source": [
    "# Step 1 Sampling"
   ]
  },
  {
   "cell_type": "code",
   "execution_count": 10,
   "id": "6e1b07be-5681-4256-abfc-e5b5643c13f6",
   "metadata": {
    "tags": []
   },
   "outputs": [],
   "source": [
    "\n",
    "k = 100\n",
    "graph = {}\n",
    "S = []\n",
    "edges = ''\n",
    "\n",
    "def build_graph():\n",
    "    global edges, graph\n",
    "\n",
    "    e = edges.readline().rstrip(\"\\n\").split()\n",
    "    while e:\n",
    "        if e[0] in graph:\n",
    "            graph[e[0]].append(e[1])\n",
    "        else:\n",
    "            graph[e[0]] = [e[1]]\n",
    "        e = edges.readline().rstrip(\"\\n\").split()\n",
    "        \n",
    "def make_sample():\n",
    "    global graph, k, S\n",
    "\n",
    "    vertices = [v for v in graph if len(graph[v]) > 10]    \n",
    "    sample = random.sample(vertices, k)\n",
    "    for v in sample:\n",
    "        w = random.randint(0, len(graph[v]) - 1)\n",
    "        S.append((v, graph[v][w]))\n",
    "        graph[v].pop(w)     \n",
    "    \n",
    "try:\n",
    "    edges = open('edges.txt', 'r')\n",
    "except:\n",
    "    edges.close()\n",
    "    exit(1)\n",
    "\n",
    "build_graph()\n",
    "make_sample()\n",
    "edges.close()\n"
   ]
  },
  {
   "cell_type": "markdown",
   "id": "be6a7a8a-bef3-4e00-88ce-5b80ef1bb63d",
   "metadata": {},
   "source": [
    "For sampling, the graph was represented by adjacent lists."
   ]
  },
  {
   "cell_type": "markdown",
   "id": "15bd7cda-3228-4e13-b3af-3316d0673679",
   "metadata": {
    "tags": []
   },
   "source": [
    "# Step 2"
   ]
  },
  {
   "cell_type": "markdown",
   "id": "40d67ccf-f794-43cc-bd04-569f1203976c",
   "metadata": {},
   "source": [
    "## Build the Graph"
   ]
  },
  {
   "cell_type": "code",
   "execution_count": 11,
   "id": "40101aa1-abb4-4890-aa43-d48d46d67676",
   "metadata": {},
   "outputs": [],
   "source": [
    "extracted_edges = []\n",
    "G = nx.DiGraph()\n",
    "\n",
    "def builder(g, s):\n",
    "    global G, extracted_edges\n",
    "    \n",
    "    e = s.readline().rstrip(\"\\n\").split()\n",
    "    while e:\n",
    "        extracted_edges.append((e[0], e[1]))\n",
    "        e = s.readline().rstrip(\"\\n\").split()\n",
    "    \n",
    "    e = g.readline().rstrip(\"\\n\").split()\n",
    "    while e:\n",
    "        G.add_edge(e[0], e[1])\n",
    "        e = g.readline().rstrip(\"\\n\").split()\n",
    "\n",
    "sample = ''\n",
    "graph = ''\n",
    "try:\n",
    "    sample = open('sample.txt', 'r')\n",
    "    graph = open('graph.txt', 'r')\n",
    "except:\n",
    "    sample.close()\n",
    "    graph.close()\n",
    "    exit(1)\n",
    "\n",
    "builder(graph, sample)\n",
    "graph.close()\n",
    "sample.close()\n"
   ]
  },
  {
   "cell_type": "markdown",
   "id": "136a16fa-43c2-4b13-8575-32709eea90cb",
   "metadata": {},
   "source": [
    "## Personalized Page Rank"
   ]
  },
  {
   "cell_type": "code",
   "execution_count": 12,
   "id": "e8e71141-a6fa-4514-b28d-828373c829fa",
   "metadata": {},
   "outputs": [
    {
     "data": {
      "text/plain": [
       "<AxesSubplot:>"
      ]
     },
     "execution_count": 12,
     "metadata": {},
     "output_type": "execute_result"
    },
    {
     "data": {
      "image/png": "[encoded data removed]",
      "text/plain": [
       "<Figure size 720x360 with 2 Axes>"
      ]
     },
     "metadata": {
      "needs_background": "light"
     },
     "output_type": "display_data"
    }
   ],
   "source": [
    "alpha = [0.1, 0.15, 0.2, 0.25, 0.3, 0.4, 0.5, 0.6, 0.7, 0.75, 0.8, 0.9]\n",
    "stats = {\"mr\":[], \"mrr\":[]}\n",
    "\n",
    "def remove_neighbors(g, w, v):\n",
    "    for u in G.neighbors(v[0]): \n",
    "        del w[u]\n",
    "    del w[v[0]]\n",
    "    \n",
    "def PPR(k, a):\n",
    "    global G, extracted_edges\n",
    "    \n",
    "    mr = 0\n",
    "    mrr = 0\n",
    "    hitsk = 0\n",
    "    s = len(extracted_edges)\n",
    "    for v in extracted_edges:\n",
    "        weights = nx.pagerank(G, alpha = a, personalization = {v[0]:1})\n",
    "        remove_neighbors(G, weights, v)\n",
    "        cx = list(weights.items())\n",
    "        cx.sort(reverse=True, key=lambda x: x[1])\n",
    "        for i in range(len(cx)):\n",
    "            if cx[i][0] == v[1]:\n",
    "                mr += i + 1\n",
    "                mrr += 1/(i + 1)\n",
    "                if i + 1 <= k: hitsk+=1\n",
    "    return (mr/s, mrr/s, hitsk/s)\n",
    "\n",
    "for a in alpha:\n",
    "    stats[\"mr\"].append(PPR(1, a)[0])\n",
    "    stats[\"mrr\"].append(PPR(1, a)[1])\n",
    "\n",
    "fig, axs = plt.subplots(1, 2, figsize=(10,5))\n",
    "sns.lineplot(x=alpha, y=stats[\"mr\"], legend='brief', label=str('MR'), ax=axs[0])\n",
    "sns.lineplot(x=alpha, y=stats[\"mrr\"], legend='brief', label=str('MRR'), ax=axs[1])    \n"
   ]
  },
  {
   "cell_type": "markdown",
   "id": "c24183ee-7a45-40dd-a6de-d83c6f47c6e9",
   "metadata": {},
   "source": [
    "# Comments\n",
    "\n",
    "<ul>\n",
    "    <li>\n",
    "        MR and MPR metrics are used in cases where there is only one real choice. The metric MRR tells us how accurate the predictions of the algorithm are, and can be considered a variation of the metric success @ k. If the MRR is close to 1 then the correct recommendations will be very high in the ranking with a high probability.\n",
    "        On the contrary, the metric MR gives us the average ranking (position) of the relevant recommendation in the list of\n",
    "        recommendations.\n",
    "    </li>\n",
    "    <li>\n",
    "        From the graphs we observe that as we increase the alpha and at the same time reduce the jump probability the performance of the algorithm drops significantly. For small values ​​of the alpha parameter and high jump probability we have more restarts from the x node with the result that the nearby nodes get more probability since the weights decrease exponentially, and the algorithm gives better results. From the diagrams we see that when alpha = 0.15 we have the best performance.\n",
    "    </li>\n",
    "</ul>"
   ]
  },
  {
   "cell_type": "markdown",
   "id": "a439dee8-ea9b-4935-ad4a-219c2b13c0c1",
   "metadata": {},
   "source": [
    "# Step 3"
   ]
  },
  {
   "cell_type": "markdown",
   "id": "dc5d1ee8-6172-4023-8116-710367fe0f1d",
   "metadata": {},
   "source": [
    "## Neighbor Jaccard Similarity and Common Neighbors vs PPR"
   ]
  },
  {
   "cell_type": "code",
   "execution_count": 13,
   "id": "8c51bab7-9a8b-40de-bdf1-063c8af4f080",
   "metadata": {},
   "outputs": [
    {
     "name": "stdout",
     "output_type": "stream",
     "text": [
      "--------------------------------\n",
      "Scores for CN:\n",
      "MR:  228.96\n",
      "MRR:  0.03636532226960041\n",
      "--------------------------------\n",
      "Scores for NJS:\n",
      "MR:  251.13\n",
      "MRR:  0.029707143007056114\n",
      "--------------------------------\n",
      "Scores for PPR with a = 0.15:\n",
      "MR:  158.56\n",
      "MRR:  0.08031653455753775\n",
      "--------------------------------\n"
     ]
    }
   ],
   "source": [
    "\n",
    "def CN(k):\n",
    "    global G, extracted_edges\n",
    "    \n",
    "    mr = 0\n",
    "    mrr = 0\n",
    "    hitsk = 0\n",
    "    s = len(extracted_edges)\n",
    "    for e in extracted_edges:\n",
    "        sx = []\n",
    "        n1 = set(G.neighbors(e[0]))\n",
    "        for v in G.nodes:\n",
    "            if not v in n1 and v != e[0]:\n",
    "                n2 = set(G.neighbors(v))\n",
    "                common = len(n1.intersection(n2))\n",
    "                sx.append((v, common))\n",
    "        sx.sort(reverse=True, key=lambda x: x[1])\n",
    "        for i in range(len(sx)):\n",
    "            if e[1] == sx[i][0]:\n",
    "                mr += i + 1\n",
    "                mrr += 1/(i + 1)\n",
    "                if i + 1 <= k: hitsk+=1\n",
    "    return (mr/s, mrr/s, hitsk/s)\n",
    "    \n",
    "def NJS(k):\n",
    "    global G, extracted_edges\n",
    "    \n",
    "    mr = 0\n",
    "    mrr = 0\n",
    "    hitsk = 0\n",
    "    s = len(extracted_edges)\n",
    "    for e in extracted_edges:\n",
    "        sx = []\n",
    "        n1 = set(G.neighbors(e[0]))\n",
    "        for v in G.nodes:\n",
    "            if not v in n1 and v != e[0]:\n",
    "                n2 = set(G.neighbors(v))\n",
    "                njs = len(n1.intersection(n2))/len(n1.union(n2))\n",
    "                sx.append((v, njs))\n",
    "        sx.sort(reverse=True, key=lambda x: x[1])\n",
    "        for i in range(len(sx)):\n",
    "            if e[1] == sx[i][0]:\n",
    "                mr += i + 1\n",
    "                mrr += 1/(i + 1)\n",
    "                if i + 1 <= k: hitsk+=1\n",
    "    return (mr/s, mrr/s, hitsk/s)\n",
    "    \n",
    "print('--------------------------------')\n",
    "print('Scores for CN:' )\n",
    "e = CN(1)\n",
    "print('MR: ', e[0])\n",
    "print('MRR: ', e[1])\n",
    "print('--------------------------------')\n",
    "\n",
    "print('Scores for NJS:' )\n",
    "e = NJS(1)\n",
    "print('MR: ', e[0])\n",
    "print('MRR: ', e[1])\n",
    "print('--------------------------------')\n",
    "\n",
    "print('Scores for PPR with a = 0.15:' )\n",
    "e = PPR(1, 0.15)\n",
    "print('MR: ', e[0])\n",
    "print('MRR: ', e[1])\n",
    "print('--------------------------------')\n"
   ]
  },
  {
   "cell_type": "markdown",
   "id": "726685c6-f39d-4a0d-9f24-ac32ba95151d",
   "metadata": {},
   "source": [
    "## Success@k"
   ]
  },
  {
   "cell_type": "code",
   "execution_count": 14,
   "id": "d4a7d12d-4a99-4d27-96d7-3afb4daede70",
   "metadata": {},
   "outputs": [
    {
     "data": {
      "text/html": [
       "<div>\n",
       "<style scoped>\n",
       "    .dataframe tbody tr th:only-of-type {\n",
       "        vertical-align: middle;\n",
       "    }\n",
       "\n",
       "    .dataframe tbody tr th {\n",
       "        vertical-align: top;\n",
       "    }\n",
       "\n",
       "    .dataframe thead th {\n",
       "        text-align: right;\n",
       "    }\n",
       "</style>\n",
       "<table border=\"1\" class=\"dataframe\">\n",
       "  <thead>\n",
       "    <tr style=\"text-align: right;\">\n",
       "      <th></th>\n",
       "      <th>hits@1</th>\n",
       "      <th>hits@5</th>\n",
       "      <th>hits@10</th>\n",
       "      <th>hits@20</th>\n",
       "      <th>hits@50</th>\n",
       "      <th>hits@75</th>\n",
       "      <th>hits@100</th>\n",
       "    </tr>\n",
       "  </thead>\n",
       "  <tbody>\n",
       "    <tr>\n",
       "      <th>CN</th>\n",
       "      <td>0.01</td>\n",
       "      <td>0.05</td>\n",
       "      <td>0.07</td>\n",
       "      <td>0.11</td>\n",
       "      <td>0.26</td>\n",
       "      <td>0.31</td>\n",
       "      <td>0.33</td>\n",
       "    </tr>\n",
       "    <tr>\n",
       "      <th>NJS</th>\n",
       "      <td>0.01</td>\n",
       "      <td>0.04</td>\n",
       "      <td>0.07</td>\n",
       "      <td>0.09</td>\n",
       "      <td>0.19</td>\n",
       "      <td>0.22</td>\n",
       "      <td>0.29</td>\n",
       "    </tr>\n",
       "    <tr>\n",
       "      <th>PPR</th>\n",
       "      <td>0.02</td>\n",
       "      <td>0.12</td>\n",
       "      <td>0.17</td>\n",
       "      <td>0.24</td>\n",
       "      <td>0.39</td>\n",
       "      <td>0.48</td>\n",
       "      <td>0.58</td>\n",
       "    </tr>\n",
       "  </tbody>\n",
       "</table>\n",
       "</div>"
      ],
      "text/plain": [
       "     hits@1  hits@5  hits@10  hits@20  hits@50  hits@75  hits@100\n",
       "CN     0.01    0.05     0.07     0.11     0.26     0.31      0.33\n",
       "NJS    0.01    0.04     0.07     0.09     0.19     0.22      0.29\n",
       "PPR    0.02    0.12     0.17     0.24     0.39     0.48      0.58"
      ]
     },
     "metadata": {},
     "output_type": "display_data"
    },
    {
     "data": {
      "text/plain": [
       "<AxesSubplot:>"
      ]
     },
     "execution_count": 14,
     "metadata": {},
     "output_type": "execute_result"
    },
    {
     "data": {
      "image/png": "[encoded data removed]",
      "text/plain": [
       "<Figure size 432x288 with 1 Axes>"
      ]
     },
     "metadata": {
      "needs_background": "light"
     },
     "output_type": "display_data"
    }
   ],
   "source": [
    "ks = [1,5,10,20,50,75,100]\n",
    "\n",
    "cn = []\n",
    "njs = []\n",
    "ppr = []\n",
    "for k in ks:\n",
    "    ppr.append(PPR(k, 0.15)[2])\n",
    "    cn.append(CN(k)[2])\n",
    "    njs.append(NJS(k)[2])\n",
    "\n",
    "hits = [cn, njs, ppr]\n",
    "df = pd.DataFrame(hits)\n",
    "df.columns = ['hits@1', 'hits@5', 'hits@10', 'hits@20', 'hits@50', 'hits@75', 'hits@100']\n",
    "df.index = ['CN', 'NJS', 'PPR']\n",
    "display(df)\n",
    "\n",
    "fig, ax = plt.subplots()\n",
    "sns.lineplot(x=ks, y=cn, ax=ax, label=str('CN'))\n",
    "sns.lineplot(x=ks, y=njs, ax=ax, label=str('NJS'))\n",
    "sns.lineplot(x=ks, y=ppr, ax=ax, label=str('PPR'))"
   ]
  },
  {
   "cell_type": "markdown",
   "id": "d2b7bf00-6888-4653-8299-ade505ec3b11",
   "metadata": {},
   "source": [
    "# Comments\n",
    "\n",
    "The CN technique considers that the more common nodes two different nodes have, the greater the likelihood that there will be a correlation between them. The NJS technique is based on the CN method.\n",
    "We observe that between these three techniques PPR gives the best results because it focuses mainly on the nodes that are closest to the x node, due to high jump probability. In addition, we observe that the CN technique is slightly more efficient than the NJS technique.\n"
   ]
  },
  {
   "cell_type": "markdown",
   "id": "087955d9-3074-4217-8e97-7051c67340e7",
   "metadata": {},
   "source": [
    "# Step 4 - Convert to Undirected"
   ]
  },
  {
   "cell_type": "markdown",
   "id": "75ce37e0-d816-42d3-8971-15b36bd420aa",
   "metadata": {},
   "source": [
    "## Determine a"
   ]
  },
  {
   "cell_type": "code",
   "execution_count": 15,
   "id": "7698c3ed-92ec-4c7f-a986-ad79f3cffc5e",
   "metadata": {},
   "outputs": [
    {
     "data": {
      "text/plain": [
       "<AxesSubplot:>"
      ]
     },
     "execution_count": 15,
     "metadata": {},
     "output_type": "execute_result"
    },
    {
     "data": {
      "image/png": "[encoded data removed]",
      "text/plain": [
       "<Figure size 720x360 with 2 Axes>"
      ]
     },
     "metadata": {
      "needs_background": "light"
     },
     "output_type": "display_data"
    }
   ],
   "source": [
    "G = G.to_undirected()\n",
    "alpha = [0.1, 0.15, 0.2, 0.25, 0.3, 0.4, 0.5, 0.6, 0.7, 0.75, 0.8, 0.9]\n",
    "stats = {\"mr\":[], \"mrr\":[]}\n",
    "\n",
    "for a in alpha:\n",
    "    stats[\"mr\"].append(PPR(1, a)[0])\n",
    "    stats[\"mrr\"].append(PPR(1, a)[1])\n",
    "    \n",
    "fig, axs = plt.subplots(1, 2, figsize=(10,5))\n",
    "sns.lineplot(x=alpha, y=stats[\"mr\"], legend='brief', label=str('MR'), ax=axs[0])\n",
    "sns.lineplot(x=alpha, y=stats[\"mrr\"], legend='brief', label=str('MRR'), ax=axs[1])"
   ]
  },
  {
   "cell_type": "markdown",
   "id": "c91a2b71-ff19-45f1-9622-f90cf2f98ceb",
   "metadata": {},
   "source": [
    "From the graphs we see that for a = 0.6 we get satisfactory results in relation to the other values, because we have the lowest MR and quite high MRR."
   ]
  },
  {
   "cell_type": "markdown",
   "id": "3c87ba4b-442d-4524-840c-612b1aa5aa2f",
   "metadata": {},
   "source": [
    "## PPR, NJS, CN on the undirected graph"
   ]
  },
  {
   "cell_type": "code",
   "execution_count": 16,
   "id": "77a36349-a060-4da0-9508-a71b19f440bc",
   "metadata": {},
   "outputs": [
    {
     "name": "stdout",
     "output_type": "stream",
     "text": [
      "--------------------------------\n",
      "Scores for CN:\n",
      "MR:  113.53\n",
      "MRR:  0.10002677734859561\n",
      "--------------------------------\n",
      "Scores for NJS:\n",
      "MR:  163.97\n",
      "MRR:  0.07358446107259191\n",
      "--------------------------------\n",
      "Scores for PPR with a = 0.6:\n",
      "MR:  82.67\n",
      "MRR:  0.11330617748129872\n",
      "--------------------------------\n"
     ]
    }
   ],
   "source": [
    "print('--------------------------------')\n",
    "print('Scores for CN:' )\n",
    "e = CN(1)\n",
    "print('MR: ', e[0])\n",
    "print('MRR: ', e[1])\n",
    "print('--------------------------------')\n",
    "\n",
    "print('Scores for NJS:' )\n",
    "e = NJS(1)\n",
    "print('MR: ', e[0])\n",
    "print('MRR: ', e[1])\n",
    "print('--------------------------------')\n",
    "\n",
    "print('Scores for PPR with a = 0.6:' )\n",
    "e = PPR(1, 0.6)\n",
    "print('MR: ', e[0])\n",
    "print('MRR: ', e[1])\n",
    "print('--------------------------------')"
   ]
  },
  {
   "cell_type": "code",
   "execution_count": 17,
   "id": "12a0cc26-f95e-4ace-aa0f-3c75f8193fe1",
   "metadata": {},
   "outputs": [
    {
     "data": {
      "text/html": [
       "<div>\n",
       "<style scoped>\n",
       "    .dataframe tbody tr th:only-of-type {\n",
       "        vertical-align: middle;\n",
       "    }\n",
       "\n",
       "    .dataframe tbody tr th {\n",
       "        vertical-align: top;\n",
       "    }\n",
       "\n",
       "    .dataframe thead th {\n",
       "        text-align: right;\n",
       "    }\n",
       "</style>\n",
       "<table border=\"1\" class=\"dataframe\">\n",
       "  <thead>\n",
       "    <tr style=\"text-align: right;\">\n",
       "      <th></th>\n",
       "      <th>hits@1</th>\n",
       "      <th>hits@5</th>\n",
       "      <th>hits@10</th>\n",
       "      <th>hits@20</th>\n",
       "      <th>hits@50</th>\n",
       "      <th>hits@75</th>\n",
       "      <th>hits@100</th>\n",
       "    </tr>\n",
       "  </thead>\n",
       "  <tbody>\n",
       "    <tr>\n",
       "      <th>CN</th>\n",
       "      <td>0.05</td>\n",
       "      <td>0.12</td>\n",
       "      <td>0.22</td>\n",
       "      <td>0.33</td>\n",
       "      <td>0.44</td>\n",
       "      <td>0.57</td>\n",
       "      <td>0.64</td>\n",
       "    </tr>\n",
       "    <tr>\n",
       "      <th>NJS</th>\n",
       "      <td>0.04</td>\n",
       "      <td>0.09</td>\n",
       "      <td>0.13</td>\n",
       "      <td>0.23</td>\n",
       "      <td>0.32</td>\n",
       "      <td>0.41</td>\n",
       "      <td>0.49</td>\n",
       "    </tr>\n",
       "    <tr>\n",
       "      <th>PPR</th>\n",
       "      <td>0.05</td>\n",
       "      <td>0.17</td>\n",
       "      <td>0.24</td>\n",
       "      <td>0.36</td>\n",
       "      <td>0.51</td>\n",
       "      <td>0.66</td>\n",
       "      <td>0.72</td>\n",
       "    </tr>\n",
       "  </tbody>\n",
       "</table>\n",
       "</div>"
      ],
      "text/plain": [
       "     hits@1  hits@5  hits@10  hits@20  hits@50  hits@75  hits@100\n",
       "CN     0.05    0.12     0.22     0.33     0.44     0.57      0.64\n",
       "NJS    0.04    0.09     0.13     0.23     0.32     0.41      0.49\n",
       "PPR    0.05    0.17     0.24     0.36     0.51     0.66      0.72"
      ]
     },
     "metadata": {},
     "output_type": "display_data"
    },
    {
     "data": {
      "text/plain": [
       "<AxesSubplot:>"
      ]
     },
     "execution_count": 17,
     "metadata": {},
     "output_type": "execute_result"
    },
    {
     "data": {
      "image/png": "[encoded data removed]",
      "text/plain": [
       "<Figure size 432x288 with 1 Axes>"
      ]
     },
     "metadata": {
      "needs_background": "light"
     },
     "output_type": "display_data"
    }
   ],
   "source": [
    "ks = [1,5,10,20,50,75,100]\n",
    "\n",
    "cn = []\n",
    "njs = []\n",
    "ppr = []\n",
    "for k in ks:\n",
    "    ppr.append(PPR(k, 0.6)[2])\n",
    "    cn.append(CN(k)[2])\n",
    "    njs.append(NJS(k)[2])\n",
    "\n",
    "hits = [cn, njs, ppr]\n",
    "df = pd.DataFrame(hits)\n",
    "df.columns = ['hits@1', 'hits@5', 'hits@10', 'hits@20', 'hits@50', 'hits@75', 'hits@100']\n",
    "df.index = ['CN', 'NJS', 'PPR']\n",
    "display(df)\n",
    "\n",
    "fig, ax = plt.subplots()\n",
    "sns.lineplot(x=ks, y=cn, ax=ax, label=str('CN'))\n",
    "sns.lineplot(x=ks, y=njs, ax=ax, label=str('NJS'))\n",
    "sns.lineplot(x=ks, y=ppr, ax=ax, label=str('PPR'))"
   ]
  },
  {
   "cell_type": "markdown",
   "id": "5458d481-2949-4670-88c3-f12a32985d53",
   "metadata": {},
   "source": [
    "# Comments\n",
    "\n",
    "We observe that the three techniques are most efficient in the case of the non-directed graph.\n",
    "In the case of CN and NJS, two nodes that are not neighbors may have more common nodes, thus increasing the likelihood of a correlation between them.\n",
    "In the case of PPR we first notice that the best alpha is different. For this case we have less jump probability and so the algorithm performs longer walks until it returns to the x node. As a result, it emphasizes both nodes that are located at longer distances. While at the same time we see that for all the different a PPR is most effective in the case of the non-directed graph."
   ]
  }
 ],
 "metadata": {
  "kernelspec": {
   "display_name": "Python 3 (ipykernel)",
   "language": "python",
   "name": "python3"
  },
  "language_info": {
   "codemirror_mode": {
    "name": "ipython",
    "version": 3
   },
   "file_extension": ".py",
   "mimetype": "text/x-python",
   "name": "python",
   "nbconvert_exporter": "python",
   "pygments_lexer": "ipython3",
   "version": "3.8.12"
  }
 },
 "nbformat": 4,
 "nbformat_minor": 5
}
